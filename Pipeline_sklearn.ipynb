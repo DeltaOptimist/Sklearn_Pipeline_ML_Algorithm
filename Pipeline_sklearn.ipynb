{
  "nbformat": 4,
  "nbformat_minor": 0,
  "metadata": {
    "colab": {
      "provenance": []
    },
    "kernelspec": {
      "name": "python3",
      "display_name": "Python 3"
    },
    "language_info": {
      "name": "python"
    }
  },
  "cells": [
    {
      "cell_type": "code",
      "execution_count": 2,
      "metadata": {
        "colab": {
          "base_uri": "https://localhost:8080/"
        },
        "id": "32jguPjSvb8T",
        "outputId": "622ea807-1ccd-484e-f01c-cb44d6f28fdb"
      },
      "outputs": [
        {
          "output_type": "stream",
          "name": "stdout",
          "text": [
            "Logistic regression accuracy: 0.9736842105263158\n",
            "K-nearest neighbors accuracy: 0.9736842105263158\n",
            "Support vector machine accuracy: 0.9736842105263158\n"
          ]
        }
      ],
      "source": [
        "import pandas as pd\n",
        "from sklearn.datasets import load_iris\n",
        "from sklearn.pipeline import Pipeline\n",
        "from sklearn.preprocessing import StandardScaler\n",
        "from sklearn.model_selection import train_test_split\n",
        "from sklearn.linear_model import LogisticRegression\n",
        "from sklearn.neighbors import KNeighborsClassifier\n",
        "from sklearn.svm import SVC\n",
        "\n",
        "# Load the Iris dataset\n",
        "iris_data = load_iris()\n",
        "\n",
        "# Split the data into train and test sets\n",
        "X_train, X_test, y_train, y_test = train_test_split(iris_data.data, iris_data.target, test_size=0.25)\n",
        "\n",
        "# Create a pipeline for each model\n",
        "logistic_regression_pipeline = Pipeline([\n",
        "    ('scaler', StandardScaler()),\n",
        "    ('logistic_regression', LogisticRegression())\n",
        "])\n",
        "\n",
        "k_neighbors_classifier_pipeline = Pipeline([\n",
        "    ('scaler', StandardScaler()),\n",
        "    ('k_neighbors_classifier', KNeighborsClassifier())\n",
        "])\n",
        "\n",
        "support_vector_machine_pipeline = Pipeline([\n",
        "    ('scaler', StandardScaler()),\n",
        "    ('support_vector_machine', SVC())\n",
        "])\n",
        "\n",
        "# Fit the models to the train data\n",
        "logistic_regression_pipeline.fit(X_train, y_train)\n",
        "k_neighbors_classifier_pipeline.fit(X_train, y_train)\n",
        "support_vector_machine_pipeline.fit(X_train, y_train)\n",
        "\n",
        "# Evaluate the models on the test data\n",
        "logistic_regression_score = logistic_regression_pipeline.score(X_test, y_test)\n",
        "k_neighbors_classifier_score = k_neighbors_classifier_pipeline.score(X_test, y_test)\n",
        "support_vector_machine_score = support_vector_machine_pipeline.score(X_test, y_test)\n",
        "\n",
        "print('Logistic regression accuracy:', logistic_regression_score)\n",
        "print('K-nearest neighbors accuracy:', k_neighbors_classifier_score)\n",
        "print('Support vector machine accuracy:', support_vector_machine_score)\n"
      ]
    },
    {
      "cell_type": "code",
      "source": [
        "import pandas as pd\n",
        "from sklearn.datasets import load_wine\n",
        "from sklearn.preprocessing import StandardScaler\n",
        "from sklearn.pipeline import Pipeline\n",
        "from sklearn.model_selection import train_test_split\n",
        "from sklearn.linear_model import LogisticRegression\n",
        "from sklearn.neighbors import KNeighborsClassifier\n",
        "from sklearn.svm import SVC\n",
        "from sklearn.ensemble import RandomForestClassifier\n",
        "from sklearn.tree import DecisionTreeClassifier\n",
        "\n",
        "# Load the Wine dataset\n",
        "wine_data = load_wine()\n",
        "\n",
        "# Split the data into train and test sets\n",
        "X_train, X_test, y_train, y_test = train_test_split(wine_data.data, wine_data.target, test_size=0.25)\n",
        "\n",
        "# Create a pipeline for each model\n",
        "logistic_regression_pipeline = Pipeline([\n",
        "    ('scaler', StandardScaler()),\n",
        "    ('logistic_regression', LogisticRegression())\n",
        "])\n",
        "\n",
        "k_neighbors_classifier_pipeline = Pipeline([\n",
        "    ('scaler', StandardScaler()),\n",
        "    ('k_neighbors_classifier', KNeighborsClassifier())\n",
        "])\n",
        "\n",
        "support_vector_machine_pipeline = Pipeline([\n",
        "    ('scaler', StandardScaler()),\n",
        "    ('support_vector_machine', SVC())\n",
        "])\n",
        "\n",
        "random_forest_classifier_pipeline = Pipeline([\n",
        "    ('scaler', StandardScaler()),\n",
        "    ('random_forest_classifier', RandomForestClassifier())\n",
        "])\n",
        "\n",
        "decision_tree_classifier_pipeline = Pipeline([\n",
        "    ('scaler', StandardScaler()),\n",
        "    ('decision_tree_classifier', DecisionTreeClassifier())\n",
        "])\n",
        "\n",
        "# Fit the models to the train data\n",
        "logistic_regression_pipeline.fit(X_train, y_train)\n",
        "k_neighbors_classifier_pipeline.fit(X_train, y_train)\n",
        "support_vector_machine_pipeline.fit(X_train, y_train)\n",
        "random_forest_classifier_pipeline.fit(X_train, y_train)\n",
        "decision_tree_classifier_pipeline.fit(X_train, y_train)\n",
        "\n",
        "# Evaluate the models on the test data\n",
        "logistic_regression_score = logistic_regression_pipeline.score(X_test, y_test)\n",
        "k_neighbors_classifier_score = k_neighbors_classifier_pipeline.score(X_test, y_test)\n",
        "support_vector_machine_score = support_vector_machine_pipeline.score(X_test, y_test)\n",
        "random_forest_classifier_score = random_forest_classifier_pipeline.score(X_test, y_test)\n",
        "decision_tree_classifier_score = decision_tree_classifier_pipeline.score(X_test, y_test)\n",
        "\n",
        "print('Logistic regression accuracy:', logistic_regression_score)\n",
        "print('K-nearest neighbors accuracy:', k_neighbors_classifier_score)\n",
        "print('Support vector machine accuracy:', support_vector_machine_score)\n",
        "print('Random forest classifier accuracy:', random_forest_classifier_score)\n",
        "print('Decision tree classifier accuracy:', decision_tree_classifier_score)\n"
      ],
      "metadata": {
        "colab": {
          "base_uri": "https://localhost:8080/"
        },
        "id": "qOsbn_xAvh4F",
        "outputId": "b7e904fc-20d3-4bd7-8ef6-fa2737c3b228"
      },
      "execution_count": 3,
      "outputs": [
        {
          "output_type": "stream",
          "name": "stdout",
          "text": [
            "Logistic regression accuracy: 1.0\n",
            "K-nearest neighbors accuracy: 0.9777777777777777\n",
            "Support vector machine accuracy: 0.9777777777777777\n",
            "Random forest classifier accuracy: 0.9777777777777777\n",
            "Decision tree classifier accuracy: 0.9333333333333333\n"
          ]
        }
      ]
    },
    {
      "cell_type": "code",
      "source": [],
      "metadata": {
        "id": "oQBwH6gvwRq6"
      },
      "execution_count": null,
      "outputs": []
    }
  ]
}